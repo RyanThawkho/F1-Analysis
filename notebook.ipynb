{
 "cells": [
  {
   "cell_type": "code",
   "execution_count": 8,
   "id": "f880ec48",
   "metadata": {},
   "outputs": [],
   "source": [
    "import pandas as pd\n",
    "\n",
    "drivers = pd.read_csv('C:/Users/Ryan/Desktop/Data analytics/F1 Project_new/F1_database/F1_database/drivers.csv',na_values=r'\\N')\n",
    "constructors = pd.read_csv('C:/Users/Ryan/Desktop/Data analytics/F1 Project_new/F1_database/F1_database/constructors.csv',na_values=r'\\N')\n",
    "races = pd.read_csv('C:/Users/Ryan/Desktop/Data analytics/F1 Project_new/F1_database/F1_database/races.csv',na_values=r'\\N')\n",
    "results = pd.read_csv('C:/Users/Ryan/Desktop/Data analytics/F1 Project_new/F1_database/F1_database/results.csv',na_values=r'\\N')"
   ]
  },
  {
   "cell_type": "code",
   "execution_count": 9,
   "id": "0b3dae45",
   "metadata": {},
   "outputs": [
    {
     "data": {
      "text/plain": [
       "resultId               0\n",
       "raceId                 0\n",
       "driverId               0\n",
       "constructorId          0\n",
       "number                 6\n",
       "grid                   0\n",
       "position           10928\n",
       "positionText           0\n",
       "positionOrder          0\n",
       "points                 0\n",
       "laps                   0\n",
       "time               18986\n",
       "milliseconds       18986\n",
       "fastestLap         18499\n",
       "rank               18249\n",
       "fastestLapTime     18499\n",
       "fastestLapSpeed    18499\n",
       "statusId               0\n",
       "dtype: int64"
      ]
     },
     "execution_count": 9,
     "metadata": {},
     "output_type": "execute_result"
    }
   ],
   "source": [
    "# check for missing values\n",
    "drivers.isna().sum()\n",
    "constructors.isna().sum()\n",
    "races.isna().sum()\n",
    "results.isna().sum()"
   ]
  },
  {
   "cell_type": "code",
   "execution_count": 10,
   "id": "a7301cac",
   "metadata": {},
   "outputs": [
    {
     "data": {
      "text/html": [
       "<div>\n",
       "<style scoped>\n",
       "    .dataframe tbody tr th:only-of-type {\n",
       "        vertical-align: middle;\n",
       "    }\n",
       "\n",
       "    .dataframe tbody tr th {\n",
       "        vertical-align: top;\n",
       "    }\n",
       "\n",
       "    .dataframe thead th {\n",
       "        text-align: right;\n",
       "    }\n",
       "</style>\n",
       "<table border=\"1\" class=\"dataframe\">\n",
       "  <thead>\n",
       "    <tr style=\"text-align: right;\">\n",
       "      <th></th>\n",
       "      <th>constructorId</th>\n",
       "      <th>constructorRef</th>\n",
       "      <th>name</th>\n",
       "      <th>nationality</th>\n",
       "    </tr>\n",
       "  </thead>\n",
       "  <tbody>\n",
       "    <tr>\n",
       "      <th>0</th>\n",
       "      <td>1</td>\n",
       "      <td>mclaren</td>\n",
       "      <td>McLaren</td>\n",
       "      <td>British</td>\n",
       "    </tr>\n",
       "    <tr>\n",
       "      <th>1</th>\n",
       "      <td>2</td>\n",
       "      <td>bmw_sauber</td>\n",
       "      <td>BMW Sauber</td>\n",
       "      <td>German</td>\n",
       "    </tr>\n",
       "    <tr>\n",
       "      <th>2</th>\n",
       "      <td>3</td>\n",
       "      <td>williams</td>\n",
       "      <td>Williams</td>\n",
       "      <td>British</td>\n",
       "    </tr>\n",
       "    <tr>\n",
       "      <th>3</th>\n",
       "      <td>4</td>\n",
       "      <td>renault</td>\n",
       "      <td>Renault</td>\n",
       "      <td>French</td>\n",
       "    </tr>\n",
       "    <tr>\n",
       "      <th>4</th>\n",
       "      <td>5</td>\n",
       "      <td>toro_rosso</td>\n",
       "      <td>Toro Rosso</td>\n",
       "      <td>Italian</td>\n",
       "    </tr>\n",
       "    <tr>\n",
       "      <th>...</th>\n",
       "      <td>...</td>\n",
       "      <td>...</td>\n",
       "      <td>...</td>\n",
       "      <td>...</td>\n",
       "    </tr>\n",
       "    <tr>\n",
       "      <th>207</th>\n",
       "      <td>210</td>\n",
       "      <td>haas</td>\n",
       "      <td>Haas F1 Team</td>\n",
       "      <td>American</td>\n",
       "    </tr>\n",
       "    <tr>\n",
       "      <th>208</th>\n",
       "      <td>211</td>\n",
       "      <td>racing_point</td>\n",
       "      <td>Racing Point</td>\n",
       "      <td>British</td>\n",
       "    </tr>\n",
       "    <tr>\n",
       "      <th>209</th>\n",
       "      <td>213</td>\n",
       "      <td>alphatauri</td>\n",
       "      <td>AlphaTauri</td>\n",
       "      <td>Italian</td>\n",
       "    </tr>\n",
       "    <tr>\n",
       "      <th>210</th>\n",
       "      <td>214</td>\n",
       "      <td>alpine</td>\n",
       "      <td>Alpine F1 Team</td>\n",
       "      <td>French</td>\n",
       "    </tr>\n",
       "    <tr>\n",
       "      <th>211</th>\n",
       "      <td>215</td>\n",
       "      <td>rb</td>\n",
       "      <td>RB F1 Team</td>\n",
       "      <td>Italian</td>\n",
       "    </tr>\n",
       "  </tbody>\n",
       "</table>\n",
       "<p>212 rows × 4 columns</p>\n",
       "</div>"
      ],
      "text/plain": [
       "     constructorId constructorRef            name nationality\n",
       "0                1        mclaren         McLaren     British\n",
       "1                2     bmw_sauber      BMW Sauber      German\n",
       "2                3       williams        Williams     British\n",
       "3                4        renault         Renault      French\n",
       "4                5     toro_rosso      Toro Rosso     Italian\n",
       "..             ...            ...             ...         ...\n",
       "207            210           haas    Haas F1 Team    American\n",
       "208            211   racing_point    Racing Point     British\n",
       "209            213     alphatauri      AlphaTauri     Italian\n",
       "210            214         alpine  Alpine F1 Team      French\n",
       "211            215             rb      RB F1 Team     Italian\n",
       "\n",
       "[212 rows x 4 columns]"
      ]
     },
     "execution_count": 10,
     "metadata": {},
     "output_type": "execute_result"
    }
   ],
   "source": [
    "# drop unnecessary columns\n",
    "drivers.drop(['url','nationality','code','number'], axis=1, inplace=True)\n",
    "races.drop(columns=races.loc[:,'Unnamed: 7':'Unnamed: 17'].columns, inplace=True)\n",
    "constructors.drop(columns=['url'])"
   ]
  },
  {
   "cell_type": "code",
   "execution_count": 11,
   "id": "ea10abb0",
   "metadata": {},
   "outputs": [],
   "source": [
    "# rename columns for clarity\n",
    "drivers.rename(columns={\"dob\": \"date_of_birth\",\n",
    "                        \"forename\": \"first_name\",\n",
    "                        \"surname\": \"last_name\"}, inplace=True)\n",
    "\n",
    "results.rename(columns={\"position\": \"final_position\", \"rank\": \"fastest_lap_rank\"}, inplace=True)\n",
    "\n",
    "# replace NaN values as DNF in the final position column\n",
    "results['final_position'].fillna('DNF', inplace=True)"
   ]
  },
  {
   "cell_type": "code",
   "execution_count": 12,
   "id": "7c7bee64",
   "metadata": {},
   "outputs": [],
   "source": [
    "# Merge results with races to get year\n",
    "merged_df = results.merge(races[['raceId', 'year']], on='raceId', how='left')\n",
    "\n",
    "# Merge with drivers to get driver names\n",
    "merged_df = merged_df.merge(drivers[['driverId', 'first_name', 'last_name']], on='driverId', how='left')\n",
    "\n",
    "# Merge with constructors to get constructor names\n",
    "merged_df = merged_df.merge(constructors[['constructorId', 'name']], on='constructorId', how='left')\n",
    "\n",
    "# Rename constructor name column for clarity\n",
    "merged_df = merged_df.rename(columns={'name': 'constructor_name'})\n"
   ]
  },
  {
   "cell_type": "code",
   "execution_count": 13,
   "id": "918785ed",
   "metadata": {},
   "outputs": [],
   "source": [
    "# export the merged data frame \n",
    "merged_df.to_csv('C:/Users/Ryan/Desktop/Data analytics/F1 Project_new/merged_df.csv', encoding='utf-8-sig', index=False)"
   ]
  }
 ],
 "metadata": {
  "kernelspec": {
   "display_name": "base",
   "language": "python",
   "name": "python3"
  },
  "language_info": {
   "codemirror_mode": {
    "name": "ipython",
    "version": 3
   },
   "file_extension": ".py",
   "mimetype": "text/x-python",
   "name": "python",
   "nbconvert_exporter": "python",
   "pygments_lexer": "ipython3",
   "version": "3.11.5"
  }
 },
 "nbformat": 4,
 "nbformat_minor": 5
}
